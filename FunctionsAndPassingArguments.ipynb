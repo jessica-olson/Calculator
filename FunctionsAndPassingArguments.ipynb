{
 "cells": [
  {
   "cell_type": "code",
   "execution_count": 1,
   "id": "74ae291b-b37e-4197-b772-d0fd28a54fba",
   "metadata": {},
   "outputs": [],
   "source": [
    "def first_function():\n",
    "    print('You did it, Jess!')"
   ]
  },
  {
   "cell_type": "code",
   "execution_count": 3,
   "id": "e02c35f8-071e-4dfe-bfed-71f310e4fd71",
   "metadata": {},
   "outputs": [
    {
     "name": "stdout",
     "output_type": "stream",
     "text": [
      "You did it, Jess!\n"
     ]
    }
   ],
   "source": [
    "first_function()"
   ]
  },
  {
   "cell_type": "code",
   "execution_count": 19,
   "id": "d76afc35-2424-4956-b8c7-fa80474d56e4",
   "metadata": {},
   "outputs": [],
   "source": [
    "def second_function(name):\n",
    "    print(name+',', 'you did it!')"
   ]
  },
  {
   "cell_type": "code",
   "execution_count": 21,
   "id": "900e5a46-3201-46d9-b267-279c5505be36",
   "metadata": {},
   "outputs": [
    {
     "name": "stdout",
     "output_type": "stream",
     "text": [
      "Jess, you did it!\n"
     ]
    }
   ],
   "source": [
    "second_function('Jess')"
   ]
  },
  {
   "cell_type": "code",
   "execution_count": 29,
   "id": "baa50c2a-24a8-4043-93c9-20c725f02766",
   "metadata": {},
   "outputs": [],
   "source": [
    "def number_squared_func(number,power):\n",
    "    \"\"\" This function takes 'number' to the 'power' entered\"\"\"\n",
    "    print(number**power)"
   ]
  },
  {
   "cell_type": "code",
   "execution_count": 31,
   "id": "0268e5f3-1a35-4c46-baba-26fa6219e5e9",
   "metadata": {},
   "outputs": [
    {
     "name": "stdout",
     "output_type": "stream",
     "text": [
      "4\n"
     ]
    }
   ],
   "source": [
    "number_squared_func(2,2)"
   ]
  },
  {
   "cell_type": "code",
   "execution_count": null,
   "id": "df4b7929-53f9-4326-a92e-9f9f181b249e",
   "metadata": {},
   "outputs": [],
   "source": []
  }
 ],
 "metadata": {
  "kernelspec": {
   "display_name": "Python 3 (ipykernel)",
   "language": "python",
   "name": "python3"
  },
  "language_info": {
   "codemirror_mode": {
    "name": "ipython",
    "version": 3
   },
   "file_extension": ".py",
   "mimetype": "text/x-python",
   "name": "python",
   "nbconvert_exporter": "python",
   "pygments_lexer": "ipython3",
   "version": "3.12.4"
  }
 },
 "nbformat": 4,
 "nbformat_minor": 5
}
