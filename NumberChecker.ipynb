{
 "cells": [
  {
   "cell_type": "code",
   "execution_count": null,
   "id": "a43593f3-63ef-4543-a357-833a8fb477d8",
   "metadata": {},
   "outputs": [],
   "source": [
    "lists = [1,2,3,4,5]\n",
    "\n",
    "for value in sequence(list,str,):\n",
    "    body of code"
   ]
  },
  {
   "cell_type": "code",
   "execution_count": 2,
   "id": "4f8a448d-90d6-4ccb-a203-5d7d42b311f8",
   "metadata": {},
   "outputs": [],
   "source": [
    "integers = [1,2,3,4,5]"
   ]
  },
  {
   "cell_type": "code",
   "execution_count": 6,
   "id": "27551351-a238-4786-8f01-af930f2e44bf",
   "metadata": {},
   "outputs": [
    {
     "name": "stdout",
     "output_type": "stream",
     "text": [
      "1\n",
      "4\n",
      "27\n",
      "256\n",
      "3125\n"
     ]
    }
   ],
   "source": [
    "for num in integers:\n",
    "    power_of_num = num ** num\n",
    "    print(power_of_num)"
   ]
  },
  {
   "cell_type": "code",
   "execution_count": 14,
   "id": "5bccb740-0e0e-4a2d-ad1c-394ef8515ac6",
   "metadata": {},
   "outputs": [
    {
     "name": "stdout",
     "output_type": "stream",
     "text": [
      "Small Sale:  [1]\n",
      "Medium Sale:  [10, 45]\n",
      "Large Sale:  [75.75, 100, 1000, 80]\n"
     ]
    }
   ],
   "source": [
    "sale_amount = [1,10,75.75,100,1000,80,45]\n",
    "\n",
    "small_sale = []\n",
    "medium_sale = []\n",
    "large_sale = []\n",
    "\n",
    "for sale in sale_amount:\n",
    "    if sale < 10:\n",
    "        small_sale.append(sale)\n",
    "    elif sale < 75:\n",
    "        medium_sale.append(sale)\n",
    "    else:\n",
    "        large_sale.append(sale)\n",
    "\n",
    "print('Small Sale: ', small_sale)\n",
    "print('Medium Sale: ', medium_sale)\n",
    "print('Large Sale: ', large_sale)"
   ]
  },
  {
   "cell_type": "code",
   "execution_count": 16,
   "id": "db8328c8-9a5f-4f8e-9b10-b7c125269819",
   "metadata": {},
   "outputs": [
    {
     "name": "stdout",
     "output_type": "stream",
     "text": [
      "0 Mint Chocolate Chip\n",
      "1 Rocky Road\n",
      "2 Pineapple Cream\n"
     ]
    }
   ],
   "source": [
    "flavor_ice_cream = ['Mint Chocolate Chip', 'Rocky Road', 'Pineapple Cream']\n",
    "\n",
    "i = 0\n",
    "\n",
    "for flavor in flavor_ice_cream:\n",
    "    print(i, flavor)\n",
    "    i += 1"
   ]
  },
  {
   "cell_type": "code",
   "execution_count": 18,
   "id": "bfea0aae-b70a-4b60-91eb-26406755d249",
   "metadata": {},
   "outputs": [
    {
     "name": "stdout",
     "output_type": "stream",
     "text": [
      "0 Mint Chocolate Chip\n",
      "1 Rocky Road\n",
      "2 Pineapple Cream\n"
     ]
    }
   ],
   "source": [
    "for counter, flavor in enumerate(flavor_ice_cream):\n",
    "    print(counter, flavor)"
   ]
  },
  {
   "cell_type": "code",
   "execution_count": 30,
   "id": "4dc2f47e-c181-4d28-9b33-21dfedefeb82",
   "metadata": {},
   "outputs": [
    {
     "name": "stdout",
     "output_type": "stream",
     "text": [
      "Name ---> John Smith\n",
      "Amount Spent ---> 76\n",
      "Items Purchased ---> ['Shovel', 'Dirt', 'Pot']\n"
     ]
    }
   ],
   "source": [
    "customer_dictionary = {'Name':'John Smith','Amount Spent': 76, 'Items Purchased':['Shovel','Dirt','Pot']}\n",
    "\n",
    "for key, value in customer_dictionary.items():\n",
    "    print(key, '--->', value)"
   ]
  },
  {
   "cell_type": "code",
   "execution_count": 32,
   "id": "d5acaf37-4b1d-4f7d-86b1-ee49dd14e51b",
   "metadata": {},
   "outputs": [
    {
     "name": "stdout",
     "output_type": "stream",
     "text": [
      "[0, 3, 6, 9, 12, 15, 18, 21, 24, 27, 30, 33, 36, 39, 42, 45, 48, 51, 54, 57, 60, 63, 66, 69, 72, 75, 78, 81, 84, 87, 90, 93, 96, 99]\n"
     ]
    }
   ],
   "source": [
    "divis_by_three = []\n",
    "\n",
    "for num in range(100):\n",
    "    if num % 3 == 0:\n",
    "        divis_by_three.append(num)\n",
    "\n",
    "print(divis_by_three)"
   ]
  },
  {
   "cell_type": "code",
   "execution_count": 36,
   "id": "a6ff0da3-bced-45a8-a73a-a3c8009fed58",
   "metadata": {},
   "outputs": [
    {
     "name": "stdout",
     "output_type": "stream",
     "text": [
      "1 H 0\n",
      "1 e 1\n",
      "1 y 2\n",
      "2 H 3\n",
      "2 o 4\n",
      "2 w 5\n",
      "2 d 6\n",
      "2 y 7\n",
      "3 S 8\n",
      "3 u 9\n",
      "3 p 10\n",
      "4 H 11\n",
      "4 e 12\n",
      "4 l 13\n",
      "4 l 14\n",
      "4 o 15\n"
     ]
    }
   ],
   "source": [
    "greetings = ['Hey', 'Howdy', 'Sup','Hello']\n",
    "\n",
    "x=0\n",
    "y=0\n",
    "\n",
    "for word in greetings:\n",
    "    x += 1\n",
    "    for letter in word:\n",
    "        print(x,letter,y)\n",
    "        y += 1"
   ]
  },
  {
   "cell_type": "code",
   "execution_count": 40,
   "id": "03dfe2c9-ecb1-46c4-a9d8-5a390626f1ab",
   "metadata": {},
   "outputs": [
    {
     "name": "stdout",
     "output_type": "stream",
     "text": [
      "Vanilla topped with Hot Fudge\n",
      "Vanilla topped with Oreos\n",
      "Vanilla topped with Marshmallows\n",
      "Chocolate topped with Hot Fudge\n",
      "Chocolate topped with Oreos\n",
      "Chocolate topped with Marshmallows\n",
      "Cookie Dough topped with Hot Fudge\n",
      "Cookie Dough topped with Oreos\n",
      "Cookie Dough topped with Marshmallows\n"
     ]
    }
   ],
   "source": [
    "flavors = ['Vanilla', 'Chocolate', 'Cookie Dough']\n",
    "toppings = ['Hot Fudge', 'Oreos', 'Marshmallows']\n",
    "\n",
    "for flavor in flavors:\n",
    "    for topping in toppings:\n",
    "        print(flavor, 'topped with', topping)"
   ]
  },
  {
   "cell_type": "code",
   "execution_count": 42,
   "id": "216c152e-d826-4889-9ab0-1e3e45d4f129",
   "metadata": {},
   "outputs": [
    {
     "name": "stdout",
     "output_type": "stream",
     "text": [
      "0\n",
      "1\n",
      "2\n",
      "3\n",
      "4\n",
      "5\n",
      "6\n",
      "7\n",
      "8\n",
      "9\n",
      "10\n"
     ]
    }
   ],
   "source": [
    "counter = 0\n",
    "\n",
    "while counter <= 10:\n",
    "    print(counter)\n",
    "    counter += 1"
   ]
  },
  {
   "cell_type": "code",
   "execution_count": 44,
   "id": "6e663bd1-9b25-43a4-a691-00f0bfd70df1",
   "metadata": {},
   "outputs": [
    {
     "name": "stdout",
     "output_type": "stream",
     "text": [
      "1\n",
      "2\n",
      "4\n",
      "5\n"
     ]
    }
   ],
   "source": [
    "number = 0\n",
    "\n",
    "while number < 5:\n",
    "    number += 1\n",
    "    if number == 3:\n",
    "        continue\n",
    "    print(number)"
   ]
  },
  {
   "cell_type": "code",
   "execution_count": 46,
   "id": "3d16407b-2a71-484a-89fd-482eb5945444",
   "metadata": {},
   "outputs": [
    {
     "name": "stdout",
     "output_type": "stream",
     "text": [
      "1 1\n",
      "2 4\n",
      "3 27\n",
      "6 46656\n",
      "7 823543\n"
     ]
    }
   ],
   "source": [
    "integers = [1,2,3,4,5,6,7]\n",
    "\n",
    "for num in integers:\n",
    "    power_of_num = num ** num\n",
    "    if 200 <= power_of_num <= 3500:\n",
    "        continue\n",
    "    print(num, power_of_num)"
   ]
  },
  {
   "cell_type": "code",
   "execution_count": 50,
   "id": "43d0a8b0-9677-4e0b-83c4-56d9da3466cc",
   "metadata": {},
   "outputs": [
    {
     "name": "stdout",
     "output_type": "stream",
     "text": [
      "0\n",
      "1\n",
      "2\n",
      "3\n",
      "4\n",
      "5\n",
      "6\n",
      "7\n",
      "8\n",
      "9\n",
      "10\n",
      "No breaks found!\n"
     ]
    }
   ],
   "source": [
    "counter = 0\n",
    "\n",
    "while counter <= 10:\n",
    "    if counter == 6.5:\n",
    "        break\n",
    "    print(counter)\n",
    "    counter += 1\n",
    "else:\n",
    "    print('No breaks found!')"
   ]
  },
  {
   "cell_type": "code",
   "execution_count": 58,
   "id": "7bbe64c3-fb27-4d45-b76b-b2e2489d18d3",
   "metadata": {},
   "outputs": [
    {
     "name": "stdout",
     "output_type": "stream",
     "text": [
      "1 1\n",
      "2 4\n",
      "3 27\n",
      "4 256\n",
      "5 3125\n"
     ]
    }
   ],
   "source": [
    "integers = [1,2,3,4,5,6,7]\n",
    "\n",
    "for num in integers:\n",
    "    power_of_num = num**num\n",
    "    if power_of_num > 4000:\n",
    "        break\n",
    "    print(num, power_of_num)\n",
    "else:\n",
    "    power_of_num = num**num\n",
    "    print(num, power_of_num)\n"
   ]
  },
  {
   "cell_type": "code",
   "execution_count": 60,
   "id": "5a100fef-e6e0-4df2-9936-aced39dbe7a5",
   "metadata": {},
   "outputs": [
    {
     "name": "stdout",
     "output_type": "stream",
     "text": [
      "7 823543\n"
     ]
    }
   ],
   "source": [
    "integers = [1,2,3,4,5,6,7]\n",
    "\n",
    "for num in integers:\n",
    "    pass\n",
    "else:\n",
    "    power_of_num = num**num\n",
    "    print(num, power_of_num)"
   ]
  },
  {
   "cell_type": "code",
   "execution_count": 72,
   "id": "c931f68e-f858-4a72-91fd-311633a9344f",
   "metadata": {},
   "outputs": [
    {
     "name": "stdout",
     "output_type": "stream",
     "text": [
      "0\n",
      "0\n",
      "1\n",
      "2\n",
      "1\n",
      "0\n",
      "1\n",
      "2\n",
      "2\n",
      "0\n",
      "1\n",
      "2\n",
      "3\n",
      "0\n",
      "1\n",
      "2\n",
      "4\n",
      "0\n",
      "1\n",
      "2\n",
      "5\n",
      "0\n",
      "1\n",
      "2\n",
      "6\n",
      "0\n",
      "1\n",
      "2\n",
      "7\n",
      "0\n",
      "1\n",
      "2\n",
      "8\n",
      "0\n",
      "1\n",
      "2\n",
      "9\n",
      "0\n",
      "1\n",
      "2\n",
      "10\n",
      "0\n",
      "1\n",
      "2\n",
      "Outer While Loop Ended\n"
     ]
    }
   ],
   "source": [
    "number = 0\n",
    "\n",
    "while number <=10:\n",
    "    print(number)\n",
    "    inner_number = 0\n",
    "    while inner_number < 5:\n",
    "        print(inner_number)\n",
    "        if inner_number == 2:\n",
    "            break\n",
    "        inner_number += 1\n",
    "    else:\n",
    "        print('Inner While Loop Ended')\n",
    "        \n",
    "    number += 1\n",
    "else:\n",
    "    print('Outer While Loop Ended')"
   ]
  },
  {
   "cell_type": "code",
   "execution_count": null,
   "id": "35135cf1-463e-48d9-a52e-f4dfa800bcab",
   "metadata": {},
   "outputs": [],
   "source": []
  }
 ],
 "metadata": {
  "kernelspec": {
   "display_name": "Python 3 (ipykernel)",
   "language": "python",
   "name": "python3"
  },
  "language_info": {
   "codemirror_mode": {
    "name": "ipython",
    "version": 3
   },
   "file_extension": ".py",
   "mimetype": "text/x-python",
   "name": "python",
   "nbconvert_exporter": "python",
   "pygments_lexer": "ipython3",
   "version": "3.12.4"
  }
 },
 "nbformat": 4,
 "nbformat_minor": 5
}
