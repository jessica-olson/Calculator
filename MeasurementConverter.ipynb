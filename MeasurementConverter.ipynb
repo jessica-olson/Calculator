{
 "cells": [
  {
   "cell_type": "code",
   "execution_count": 3,
   "id": "9f70f3be-3d8c-4026-ab70-c2a2efba6b0f",
   "metadata": {},
   "outputs": [
    {
     "name": "stdin",
     "output_type": "stream",
     "text": [
      "Enter Starting Unit of Measurement (inches, feet, yards) inches\n",
      "Enter Unit of Measurement to Convert to (inches, feet, yards) feet\n",
      "Enter Starting Measurement in inches:  24\n",
      "Enter Starting Measurement in feet:  3\n",
      "Enter Starting Measurement in yards:  1\n"
     ]
    }
   ],
   "source": [
    "convert_from = input(\"Enter Starting Unit of Measurement (inches, feet, yards)\")\n",
    "\n",
    "convert_to = input(\"Enter Unit of Measurement to Convert to (inches, feet, yards)\")\n",
    "\n",
    "number_of_inches = input(\"Enter Starting Measurement in inches: \")\n",
    "\n",
    "number_of_feet = input(\"Enter Starting Measurement in feet: \")\n",
    "\n",
    "number_of_yards = input(\"Enter Starting Measurement in yards: \")"
   ]
  },
  {
   "cell_type": "code",
   "execution_count": 101,
   "id": "1c970079-5775-48a2-8dbf-69fdbe1e1b8e",
   "metadata": {},
   "outputs": [
    {
     "name": "stdin",
     "output_type": "stream",
     "text": [
      "Enter Starting Unit of Measurement (inches, feet, yards) ft\n",
      "Enter Unit of Measurement to Convert to (inches, feet, yards) yards\n",
      "Enter Starting Measurement in feet:  88\n"
     ]
    },
    {
     "name": "stdout",
     "output_type": "stream",
     "text": [
      "Result: 88 feet = 29.33 yards\n"
     ]
    }
   ],
   "source": [
    "convert_from = input(\"Enter Starting Unit of Measurement (inches, feet, yards)\")\n",
    "\n",
    "convert_to = input(\"Enter Unit of Measurement to Convert to (inches, feet, yards)\")\n",
    "\n",
    "## Converting from inches\n",
    "if convert_from.lower() in[\"inches\",\"in\",\"inch\"]:\n",
    "    number_of_inches = int(input(\"Enter Starting Measurement in inches: \"))\n",
    "    if convert_to.lower() in[\"feet\", \"ft\", \"foot\"]:\n",
    "        print(\"Result: \" + str(number_of_inches) + \" inches = \" + str(round(number_of_inches / 12,2)) + \" feet\")\n",
    "    elif convert_to.lower() in[\"yards\",\"yard\",\"yd\",\"yds\"]:\n",
    "        print(\"Result: \" + str(number_of_inches) + \" inches = \" + str(round(number_of_inches / 36),2) + \" yards\")\n",
    "    else:\n",
    "        print(\"El Stupido.  Enter inches, feet, or yards.\")\n",
    "\n",
    "## Converting from feet        \n",
    "elif convert_from.lower() in[\"feet\", \"ft\", \"foot\"]:\n",
    "    number_of_feet = int(input(\"Enter Starting Measurement in feet: \"))\n",
    "    if convert_to.lower() in[\"inches\",\"in\",\"inch\"]:\n",
    "        print(\"Result: \" + str(number_of_feet) + \" feet = \" + str(round(number_of_feet * 12)) + \" inches\")\n",
    "    elif convert_to.lower() in[\"yards\",\"yard\",\"yd\",\"yds\"]:\n",
    "        print(\"Result: \" + str(number_of_feet) + \" feet = \" + str(round(number_of_feet / 3,2)) + \" yards\")\n",
    "    else:\n",
    "        print(\"El Stupido.  Enter inches, feet, or yards.\")\n",
    "\n",
    "## Converting from yards\n",
    "elif convert_from.lower() in[\"yards\",\"yard\",\"yd\",\"yds\"]:\n",
    "    number_of_yards = int(input(\"Enter Starting Measurement in yards: \"))\n",
    "    if convert_to.lower() in[\"feet\", \"ft\", \"foot\"]:\n",
    "        print(\"Result: \" + str(number_of_yards) + \" yards = \" + str(round(number_of_yards * 3)) + \" feet\")\n",
    "    elif convert_to.lower() in[\"inches\",\"in\",\"inch\"]:\n",
    "        print(\"Result: \" + str(number_of_yards) + \" yards = \" + str(round(number_of_yards * 36)) + \" inches\")\n",
    "    else:\n",
    "        print(\"El Stupido.  Enter inches, feet, or yards.\")\n",
    "        \n",
    "else:\n",
    "    print(\"YO. Enter inches, feet, or yards.\")"
   ]
  },
  {
   "cell_type": "code",
   "execution_count": null,
   "id": "9e500122-ab05-488d-9600-3253cd1fcba1",
   "metadata": {},
   "outputs": [],
   "source": []
  }
 ],
 "metadata": {
  "kernelspec": {
   "display_name": "Python 3 (ipykernel)",
   "language": "python",
   "name": "python3"
  },
  "language_info": {
   "codemirror_mode": {
    "name": "ipython",
    "version": 3
   },
   "file_extension": ".py",
   "mimetype": "text/x-python",
   "name": "python",
   "nbconvert_exporter": "python",
   "pygments_lexer": "ipython3",
   "version": "3.12.4"
  }
 },
 "nbformat": 4,
 "nbformat_minor": 5
}
