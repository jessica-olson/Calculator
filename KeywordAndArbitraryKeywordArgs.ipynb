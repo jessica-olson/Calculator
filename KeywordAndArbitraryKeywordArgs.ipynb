{
 "cells": [
  {
   "cell_type": "code",
   "execution_count": 1,
   "id": "a3c1c336-61b3-4c82-bdbc-bb2e43bbc714",
   "metadata": {},
   "outputs": [],
   "source": [
    "def number_squared_func(number,power):\n",
    "    print(number**power)"
   ]
  },
  {
   "cell_type": "code",
   "execution_count": 3,
   "id": "38c0b391-706f-4a1e-b559-68b30d5036d1",
   "metadata": {},
   "outputs": [
    {
     "name": "stdout",
     "output_type": "stream",
     "text": [
      "8\n"
     ]
    }
   ],
   "source": [
    "number_squared_func(2,3)"
   ]
  },
  {
   "cell_type": "code",
   "execution_count": 5,
   "id": "40dfb20c-e003-4d9c-98b0-6c773c1c18c7",
   "metadata": {},
   "outputs": [
    {
     "name": "stdout",
     "output_type": "stream",
     "text": [
      "9\n"
     ]
    }
   ],
   "source": [
    "number_squared_func(power = 2,number = 3)"
   ]
  },
  {
   "cell_type": "code",
   "execution_count": 13,
   "id": "3b887378-236a-4fe5-97c9-33ecc3950db2",
   "metadata": {},
   "outputs": [],
   "source": [
    "def number_kwargs(**kwargs):\n",
    "    print(kwargs['Greeting'], kwargs['Name'])"
   ]
  },
  {
   "cell_type": "code",
   "execution_count": 17,
   "id": "4b18abf9-111d-45f6-8687-add806dc560e",
   "metadata": {},
   "outputs": [
    {
     "name": "stdout",
     "output_type": "stream",
     "text": [
      "Howdy! Jess\n"
     ]
    }
   ],
   "source": [
    "number_kwargs(Greeting = 'Howdy!', Name = 'Jess')"
   ]
  },
  {
   "cell_type": "code",
   "execution_count": 21,
   "id": "ffa4baed-dfc4-4463-8835-99c0ae1505f1",
   "metadata": {},
   "outputs": [],
   "source": [
    "def hobbit_kwargs2(**Names):\n",
    "    for key, value in Names.items():\n",
    "        print(key + ': ' + value)"
   ]
  },
  {
   "cell_type": "code",
   "execution_count": 23,
   "id": "f686f4d3-543f-4002-97bf-a14b871d04a2",
   "metadata": {},
   "outputs": [
    {
     "name": "stdout",
     "output_type": "stream",
     "text": [
      "Name: Frodo\n",
      "Name2: Aragorn\n",
      "Name3: Pippin\n"
     ]
    }
   ],
   "source": [
    "hobbit_kwargs2(Name = 'Frodo', Name2 = 'Aragorn', Name3 = 'Pippin')"
   ]
  },
  {
   "cell_type": "code",
   "execution_count": 27,
   "id": "ecfa3271-8fdf-4055-b7f3-4bd1cf9db6d5",
   "metadata": {},
   "outputs": [],
   "source": [
    "my_dict = {'1': 'Pippin', 'Merry': 'Hey', '3': 'Pint'}"
   ]
  },
  {
   "cell_type": "code",
   "execution_count": 29,
   "id": "030a9d43-0eeb-499c-9adb-c20df112d7d7",
   "metadata": {},
   "outputs": [
    {
     "name": "stdout",
     "output_type": "stream",
     "text": [
      "1: Pippin\n",
      "Merry: Hey\n",
      "3: Pint\n"
     ]
    }
   ],
   "source": [
    "hobbit_kwargs2(**my_dict)"
   ]
  },
  {
   "cell_type": "code",
   "execution_count": 31,
   "id": "be787b8e-9337-4f70-a3b1-c71608620268",
   "metadata": {},
   "outputs": [],
   "source": [
    "def wild_function(one, *two, **three):\n",
    "    print(one)\n",
    "    print(two[0], two[1])\n",
    "    print(three.items())"
   ]
  },
  {
   "cell_type": "code",
   "execution_count": 37,
   "id": "5b3c4d06-96b4-470e-b84c-35203c174d26",
   "metadata": {},
   "outputs": [
    {
     "name": "stdout",
     "output_type": "stream",
     "text": [
      "23\n",
      "Welp 24\n",
      "dict_items([('One', 'Pippin'), ('Two', 'Merry'), ('Three', 'Sam')])\n"
     ]
    }
   ],
   "source": [
    "my_dict2 = {'One' : 'Pippin', 'Two': 'Merry', 'Three': 'Sam'}\n",
    "\n",
    "wild_function(23, *['Welp', '24', 'Howdy!'], **my_dict2)"
   ]
  },
  {
   "cell_type": "code",
   "execution_count": null,
   "id": "b04aba89-07e9-423a-982f-913df559909e",
   "metadata": {},
   "outputs": [],
   "source": []
  }
 ],
 "metadata": {
  "kernelspec": {
   "display_name": "Python 3 (ipykernel)",
   "language": "python",
   "name": "python3"
  },
  "language_info": {
   "codemirror_mode": {
    "name": "ipython",
    "version": 3
   },
   "file_extension": ".py",
   "mimetype": "text/x-python",
   "name": "python",
   "nbconvert_exporter": "python",
   "pygments_lexer": "ipython3",
   "version": "3.12.4"
  }
 },
 "nbformat": 4,
 "nbformat_minor": 5
}
